{
  "nbformat": 4,
  "nbformat_minor": 0,
  "metadata": {
    "colab": {
      "provenance": [],
      "authorship_tag": "ABX9TyP0HWJ++EuA0pk6xKhOO1Wo",
      "include_colab_link": true
    },
    "kernelspec": {
      "name": "python3",
      "display_name": "Python 3"
    },
    "language_info": {
      "name": "python"
    }
  },
  "cells": [
    {
      "cell_type": "markdown",
      "metadata": {
        "id": "view-in-github",
        "colab_type": "text"
      },
      "source": [
        "<a href=\"https://colab.research.google.com/github/SHIVA-RAMALINGAM/MachineLearningPractice/blob/main/Numpy_(Lecture).ipynb\" target=\"_parent\"><img src=\"https://colab.research.google.com/assets/colab-badge.svg\" alt=\"Open In Colab\"/></a>"
      ]
    },
    {
      "cell_type": "code",
      "execution_count": 1,
      "metadata": {
        "id": "paIrMwG80s8e"
      },
      "outputs": [],
      "source": [
        "import numpy as np"
      ]
    },
    {
      "cell_type": "code",
      "source": [
        "from time import process_time"
      ],
      "metadata": {
        "id": "B8Gh7YZZ0yp2"
      },
      "execution_count": 2,
      "outputs": []
    },
    {
      "cell_type": "code",
      "source": [
        "python_list = [i for i in range(10000)]\n",
        "\n",
        "start_time = process_time()\n",
        "\n",
        "python_list = [i+5 for i in range(10000)]\n",
        "\n",
        "\n",
        "end_time = process_time()\n",
        "\n",
        "print(end_time - start_time)"
      ],
      "metadata": {
        "colab": {
          "base_uri": "https://localhost:8080/"
        },
        "id": "nmIDLTpx2Av1",
        "outputId": "de94ab34-64c9-4625-f6ab-ef55edd4e220"
      },
      "execution_count": 3,
      "outputs": [
        {
          "output_type": "stream",
          "name": "stdout",
          "text": [
            "0.0014410030000000518\n"
          ]
        }
      ]
    },
    {
      "cell_type": "markdown",
      "source": [],
      "metadata": {
        "id": "8pDHL9KY5oDo"
      }
    },
    {
      "cell_type": "code",
      "source": [
        "np_array = np.array([i for i in range(100070)])\n",
        "\n",
        "start_time = process_time()\n",
        "\n",
        "np_array = np_array+5;\n",
        "\n",
        "\n",
        "end_time = process_time()\n",
        "\n",
        "print(end_time-start_time)"
      ],
      "metadata": {
        "colab": {
          "base_uri": "https://localhost:8080/"
        },
        "id": "1t_H-Spf5ouw",
        "outputId": "5e85afa1-9fd7-4b76-8a18-310ad8b0183e"
      },
      "execution_count": 5,
      "outputs": [
        {
          "output_type": "stream",
          "name": "stdout",
          "text": [
            "0.0007729770000004521\n"
          ]
        }
      ]
    },
    {
      "cell_type": "code",
      "source": [
        "a = np.array([(1,2,3,4,5),(6,7,8,9,10)])\n",
        "\n",
        "\n",
        "\n",
        "print(a)\n",
        "type(a)\n",
        "\n",
        "a.shape"
      ],
      "metadata": {
        "colab": {
          "base_uri": "https://localhost:8080/"
        },
        "id": "NcaPLqcXboi0",
        "outputId": "535aa9bd-9a90-4b05-9eae-3c2833a3e49c"
      },
      "execution_count": 14,
      "outputs": [
        {
          "output_type": "stream",
          "name": "stdout",
          "text": [
            "[[ 1  2  3  4  5]\n",
            " [ 6  7  8  9 10]]\n"
          ]
        },
        {
          "output_type": "execute_result",
          "data": {
            "text/plain": [
              "(2, 5)"
            ]
          },
          "metadata": {},
          "execution_count": 14
        }
      ]
    },
    {
      "cell_type": "code",
      "source": [
        "list1 = np.array([1,2,3,4,5])\n",
        "print(list1)\n",
        "\n",
        "list1.shape"
      ],
      "metadata": {
        "colab": {
          "base_uri": "https://localhost:8080/"
        },
        "id": "OkFHDtNpb9y_",
        "outputId": "d525dce9-9aad-420d-c197-b52fa7df7972"
      },
      "execution_count": 11,
      "outputs": [
        {
          "output_type": "stream",
          "name": "stdout",
          "text": [
            "[1 2 3 4 5]\n"
          ]
        },
        {
          "output_type": "execute_result",
          "data": {
            "text/plain": [
              "(5,)"
            ]
          },
          "metadata": {},
          "execution_count": 11
        }
      ]
    },
    {
      "cell_type": "code",
      "source": [
        "c = np.array([(1,2,3,4,5),(6,7,8,9,10)],dtype=float)\n",
        "\n",
        "print(c)\n",
        "\n",
        "\n",
        "\n",
        "\n"
      ],
      "metadata": {
        "colab": {
          "base_uri": "https://localhost:8080/"
        },
        "id": "VRXKKsAIfaly",
        "outputId": "f99dbf4d-d120-418b-ceed-17c53fbae2aa"
      },
      "execution_count": 17,
      "outputs": [
        {
          "output_type": "stream",
          "name": "stdout",
          "text": [
            "[[ 1.  2.  3.  4.  5.]\n",
            " [ 6.  7.  8.  9. 10.]]\n"
          ]
        }
      ]
    },
    {
      "cell_type": "code",
      "source": [
        "# create numpy array of zeros\n",
        "\n",
        "x = np.zeros((2,4))\n",
        "print(x)"
      ],
      "metadata": {
        "colab": {
          "base_uri": "https://localhost:8080/"
        },
        "id": "bnJRUdgugOZR",
        "outputId": "a7c3a153-06a3-4940-8ec4-c4b59e483f75"
      },
      "execution_count": 18,
      "outputs": [
        {
          "output_type": "stream",
          "name": "stdout",
          "text": [
            "[[0. 0. 0. 0.]\n",
            " [0. 0. 0. 0.]]\n"
          ]
        }
      ]
    },
    {
      "cell_type": "code",
      "source": [
        "#create a numy array of ones\n",
        "\n",
        "y = np.ones((3,3))\n",
        "print(y)"
      ],
      "metadata": {
        "colab": {
          "base_uri": "https://localhost:8080/"
        },
        "id": "ySJv_K4FhNkK",
        "outputId": "834b46bc-4fa5-44c3-a062-32dd68aae8c2"
      },
      "execution_count": 19,
      "outputs": [
        {
          "output_type": "stream",
          "name": "stdout",
          "text": [
            "[[1. 1. 1.]\n",
            " [1. 1. 1.]\n",
            " [1. 1. 1.]]\n"
          ]
        }
      ]
    },
    {
      "cell_type": "code",
      "source": [
        "#create an array of particular value\n",
        "z = np.full((3,3),9)\n",
        "print(z)\n"
      ],
      "metadata": {
        "colab": {
          "base_uri": "https://localhost:8080/"
        },
        "id": "cblGAf04hXXb",
        "outputId": "8b680182-3413-4cbb-faac-420124915081"
      },
      "execution_count": 20,
      "outputs": [
        {
          "output_type": "stream",
          "name": "stdout",
          "text": [
            "[[9 9 9]\n",
            " [9 9 9]\n",
            " [9 9 9]]\n"
          ]
        }
      ]
    },
    {
      "cell_type": "code",
      "source": [
        "#create an identity matrix - diagonals elements -1 other elements 0\n",
        "\n",
        "a = np.eye(2)\n",
        "print(a)"
      ],
      "metadata": {
        "colab": {
          "base_uri": "https://localhost:8080/"
        },
        "id": "wFVlcvLEhq_k",
        "outputId": "51a80869-bc43-4080-ac7e-e2a629b050af"
      },
      "execution_count": 22,
      "outputs": [
        {
          "output_type": "stream",
          "name": "stdout",
          "text": [
            "[[1. 0.]\n",
            " [0. 1.]]\n"
          ]
        }
      ]
    },
    {
      "cell_type": "code",
      "source": [
        "# create an numpy array with random values\n",
        "\n",
        "b = np.random.random((3,3))\n",
        "print(b)"
      ],
      "metadata": {
        "colab": {
          "base_uri": "https://localhost:8080/"
        },
        "id": "IeS4RE6iiC1b",
        "outputId": "1e14367b-3e76-4658-8bdd-af4f8798b505"
      },
      "execution_count": 27,
      "outputs": [
        {
          "output_type": "stream",
          "name": "stdout",
          "text": [
            "[[0.79612358 0.23089577 0.84357678]\n",
            " [0.81562309 0.08954817 0.63448431]\n",
            " [0.15977875 0.35787135 0.42345477]]\n"
          ]
        }
      ]
    },
    {
      "cell_type": "code",
      "source": [
        "# create random integer value array  within a specific range\n",
        "\n",
        "c = np.random.randint(5,70,(3,4))\n",
        "print(c)"
      ],
      "metadata": {
        "colab": {
          "base_uri": "https://localhost:8080/"
        },
        "id": "vzKaLIMKiUzC",
        "outputId": "839893d3-7e67-439d-c144-2aa4c3a30002"
      },
      "execution_count": 29,
      "outputs": [
        {
          "output_type": "stream",
          "name": "stdout",
          "text": [
            "[[54 21 45 28]\n",
            " [48 46 62 36]\n",
            " [ 6 51 40 51]]\n"
          ]
        }
      ]
    },
    {
      "cell_type": "code",
      "source": [
        "# create an array of evenly spaced values\n",
        "\n",
        "d = np.linspace(10,50,5)\n",
        "print(d)"
      ],
      "metadata": {
        "colab": {
          "base_uri": "https://localhost:8080/"
        },
        "id": "7Ih31lfDjL-y",
        "outputId": "a0ad4c70-c592-4f8f-8f21-f9783338c73d"
      },
      "execution_count": 31,
      "outputs": [
        {
          "output_type": "stream",
          "name": "stdout",
          "text": [
            "[10. 20. 30. 40. 50.]\n"
          ]
        }
      ]
    },
    {
      "cell_type": "code",
      "source": [
        "# array of evenly spaced valued specifiying the step size\n",
        "\n",
        "e = np.arange(10,30,5)\n",
        "print(e)"
      ],
      "metadata": {
        "colab": {
          "base_uri": "https://localhost:8080/"
        },
        "id": "2JGnaReYje87",
        "outputId": "f2c9b1d8-8c6b-44e4-bdcf-634a75bf44c2"
      },
      "execution_count": 32,
      "outputs": [
        {
          "output_type": "stream",
          "name": "stdout",
          "text": [
            "[10 15 20 25]\n"
          ]
        }
      ]
    },
    {
      "cell_type": "code",
      "source": [
        "#convert a list to a numpy array\n",
        "\n",
        "list1 = [1,2,3,4,5]\n",
        "\n",
        "np_array = np.asarray(list1)\n",
        "\n",
        "print(np_array)\n",
        "type(np_array)"
      ],
      "metadata": {
        "colab": {
          "base_uri": "https://localhost:8080/"
        },
        "id": "6NkF-AtPj34U",
        "outputId": "01e4b99d-31bb-415a-f725-4ef13ff1b13d"
      },
      "execution_count": 34,
      "outputs": [
        {
          "output_type": "stream",
          "name": "stdout",
          "text": [
            "[1 2 3 4 5]\n"
          ]
        },
        {
          "output_type": "execute_result",
          "data": {
            "text/plain": [
              "numpy.ndarray"
            ]
          },
          "metadata": {},
          "execution_count": 34
        }
      ]
    },
    {
      "cell_type": "markdown",
      "source": [
        "Analysing a numpy array"
      ],
      "metadata": {
        "id": "q4Kv2ILWkuuq"
      }
    },
    {
      "cell_type": "code",
      "source": [
        " c = np.random.randint(10,90,(5,5))\n",
        "\n",
        " print(c)"
      ],
      "metadata": {
        "colab": {
          "base_uri": "https://localhost:8080/"
        },
        "id": "6Da-FRuakP7s",
        "outputId": "7b6f1d25-d0ec-4f33-ac01-2a5df3b5815c"
      },
      "execution_count": 35,
      "outputs": [
        {
          "output_type": "stream",
          "name": "stdout",
          "text": [
            "[[43 10 54 18 86]\n",
            " [20 72 24 28 26]\n",
            " [19 69 83 47 45]\n",
            " [79 30 88 69 52]\n",
            " [55 21 83 60 80]]\n"
          ]
        }
      ]
    },
    {
      "cell_type": "code",
      "source": [
        "#no of dimensions\n",
        "\n",
        "print(c.ndim)"
      ],
      "metadata": {
        "colab": {
          "base_uri": "https://localhost:8080/"
        },
        "id": "_n2QphInlZQD",
        "outputId": "74473653-d678-41a8-f586-1151b1b8815d"
      },
      "execution_count": 36,
      "outputs": [
        {
          "output_type": "stream",
          "name": "stdout",
          "text": [
            "2\n"
          ]
        }
      ]
    },
    {
      "cell_type": "code",
      "source": [
        "#array dimensions\n",
        "\n",
        "print(c.shape)"
      ],
      "metadata": {
        "colab": {
          "base_uri": "https://localhost:8080/"
        },
        "id": "TQpaD4nllgly",
        "outputId": "a9623735-13f7-4cbb-ea66-4e2a5f5cb443"
      },
      "execution_count": 37,
      "outputs": [
        {
          "output_type": "stream",
          "name": "stdout",
          "text": [
            "(5, 5)\n"
          ]
        }
      ]
    },
    {
      "cell_type": "code",
      "source": [
        "#number of elements in an array\n",
        "\n",
        "print(c.size)"
      ],
      "metadata": {
        "colab": {
          "base_uri": "https://localhost:8080/"
        },
        "id": "is_LSXIGlov_",
        "outputId": "9b5a9ad0-fba3-4acd-9c1d-850a09fe788d"
      },
      "execution_count": 38,
      "outputs": [
        {
          "output_type": "stream",
          "name": "stdout",
          "text": [
            "25\n"
          ]
        }
      ]
    },
    {
      "cell_type": "code",
      "source": [
        "# checking datatype of values in an array\n",
        "\n",
        "print(c.dtype)"
      ],
      "metadata": {
        "colab": {
          "base_uri": "https://localhost:8080/"
        },
        "id": "OzCvmoMGlvzL",
        "outputId": "af3cc742-44fd-493d-9bb4-8307dc67b16c"
      },
      "execution_count": 39,
      "outputs": [
        {
          "output_type": "stream",
          "name": "stdout",
          "text": [
            "int64\n"
          ]
        }
      ]
    },
    {
      "cell_type": "code",
      "source": [],
      "metadata": {
        "id": "6yUY8SAyl4de"
      },
      "execution_count": null,
      "outputs": []
    },
    {
      "cell_type": "markdown",
      "source": [
        "Mathematical operations on an numpy array\n"
      ],
      "metadata": {
        "id": "CD49-e_Yl-O3"
      }
    },
    {
      "cell_type": "code",
      "source": [
        "list1 = [1,2,3,4,5]\n",
        "\n",
        "list2 = [6,7,8,9,10]\n",
        "\n",
        "print(list1+list2) #concatenate or join two list / it does not add individual element addition like 1+6 2+7. ........"
      ],
      "metadata": {
        "colab": {
          "base_uri": "https://localhost:8080/"
        },
        "id": "GxR-LtJPmBvy",
        "outputId": "97d6b7a6-f4eb-4d78-e9f3-0d55598f9a5c"
      },
      "execution_count": 40,
      "outputs": [
        {
          "output_type": "stream",
          "name": "stdout",
          "text": [
            "[1, 2, 3, 4, 5, 6, 7, 8, 9, 10]\n"
          ]
        }
      ]
    },
    {
      "cell_type": "code",
      "source": [
        "np_array1 = np.random.randint(10,50,(4,4))\n",
        "\n",
        "np_array2 = np.random.randint(60,100,(4,4))\n",
        "\n",
        "\n",
        "print(np_array1)\n",
        "\n",
        "print(np_array2)\n"
      ],
      "metadata": {
        "colab": {
          "base_uri": "https://localhost:8080/"
        },
        "id": "w0in7Qw_mI5g",
        "outputId": "400a4b03-90c8-4b5c-961c-b427b16d2e04"
      },
      "execution_count": 41,
      "outputs": [
        {
          "output_type": "stream",
          "name": "stdout",
          "text": [
            "[[20 22 28 28]\n",
            " [29 45 37 29]\n",
            " [28 19 17 39]\n",
            " [21 19 14 15]]\n",
            "[[89 79 87 71]\n",
            " [86 75 61 84]\n",
            " [70 97 83 75]\n",
            " [76 89 90 82]]\n"
          ]
        }
      ]
    },
    {
      "cell_type": "code",
      "source": [
        "print(np_array1 + np_array2)\n",
        "\n",
        "\n",
        "print(np_array1 - np_array2)\n",
        "\n",
        "print(np_array1 * np_array2)\n",
        "\n",
        "print(np_array1 / np_array2)"
      ],
      "metadata": {
        "colab": {
          "base_uri": "https://localhost:8080/"
        },
        "id": "nTo9iX80m3aM",
        "outputId": "680d7fa3-540c-41ae-ccbc-37dfa36275f3"
      },
      "execution_count": 43,
      "outputs": [
        {
          "output_type": "stream",
          "name": "stdout",
          "text": [
            "[[109 101 115  99]\n",
            " [115 120  98 113]\n",
            " [ 98 116 100 114]\n",
            " [ 97 108 104  97]]\n",
            "[[-69 -57 -59 -43]\n",
            " [-57 -30 -24 -55]\n",
            " [-42 -78 -66 -36]\n",
            " [-55 -70 -76 -67]]\n",
            "[[1780 1738 2436 1988]\n",
            " [2494 3375 2257 2436]\n",
            " [1960 1843 1411 2925]\n",
            " [1596 1691 1260 1230]]\n",
            "[[0.2247191  0.27848101 0.32183908 0.3943662 ]\n",
            " [0.3372093  0.6        0.60655738 0.3452381 ]\n",
            " [0.4        0.19587629 0.20481928 0.52      ]\n",
            " [0.27631579 0.21348315 0.15555556 0.18292683]]\n"
          ]
        }
      ]
    },
    {
      "cell_type": "code",
      "source": [
        "print(np.add(np_array1,np_array2))\n",
        "\n",
        "\n",
        "print(np.subtract(np_array1,np_array2))\n",
        "\n",
        "\n",
        "print(np.multiply(np_array1,np_array2))\n",
        "\n",
        "\n",
        "print(np.divide(np_array1,np_array2))"
      ],
      "metadata": {
        "colab": {
          "base_uri": "https://localhost:8080/"
        },
        "id": "lmsYAsqInYaI",
        "outputId": "3daba63a-6134-455d-c0da-71af855de401"
      },
      "execution_count": 44,
      "outputs": [
        {
          "output_type": "stream",
          "name": "stdout",
          "text": [
            "[[109 101 115  99]\n",
            " [115 120  98 113]\n",
            " [ 98 116 100 114]\n",
            " [ 97 108 104  97]]\n",
            "[[-69 -57 -59 -43]\n",
            " [-57 -30 -24 -55]\n",
            " [-42 -78 -66 -36]\n",
            " [-55 -70 -76 -67]]\n",
            "[[1780 1738 2436 1988]\n",
            " [2494 3375 2257 2436]\n",
            " [1960 1843 1411 2925]\n",
            " [1596 1691 1260 1230]]\n",
            "[[0.2247191  0.27848101 0.32183908 0.3943662 ]\n",
            " [0.3372093  0.6        0.60655738 0.3452381 ]\n",
            " [0.4        0.19587629 0.20481928 0.52      ]\n",
            " [0.27631579 0.21348315 0.15555556 0.18292683]]\n"
          ]
        }
      ]
    },
    {
      "cell_type": "code",
      "source": [],
      "metadata": {
        "id": "qMCEm9QTn4lZ"
      },
      "execution_count": null,
      "outputs": []
    },
    {
      "cell_type": "markdown",
      "source": [
        "Array Manipulation\n"
      ],
      "metadata": {
        "id": "uVGSWtP5n6QI"
      }
    },
    {
      "cell_type": "code",
      "source": [
        "a = np.random.randint(1,10,(3,3))\n",
        "\n",
        "print(a)"
      ],
      "metadata": {
        "id": "YJdNIqbbn8a3"
      },
      "execution_count": null,
      "outputs": []
    },
    {
      "cell_type": "code",
      "source": [],
      "metadata": {
        "id": "QURkgSsOpXIw"
      },
      "execution_count": null,
      "outputs": []
    }
  ]
}